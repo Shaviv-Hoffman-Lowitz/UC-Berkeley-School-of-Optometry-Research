{
 "cells": [
  {
   "cell_type": "code",
   "execution_count": 1,
   "metadata": {},
   "outputs": [],
   "source": [
    "#Import Libraries\n",
    "\n",
    "%matplotlib inline\n",
    "import matplotlib.pyplot as plt\n",
    "import seaborn as sns; sns.set()  # for plot styling\n",
    "import numpy as np\n",
    "import pandas as pd\n",
    "from sklearn.cluster import KMeans\n",
    "from sklearn.decomposition import PCA"
   ]
  },
  {
   "cell_type": "code",
   "execution_count": 2,
   "metadata": {
    "scrolled": true
   },
   "outputs": [],
   "source": [
    "#Read in Data\n",
    "\n",
    "data = pd.read_csv('Downloads/Documents/BM_AM_180808_RegVirtStackSlices-Table 1.csv')\n",
    "new_data = data[[\"Islet1\",\"Pax6\",\"CABP5\",\"SCGN\",\"CAVIII\",\"Rec\",\"Calb\",\"Parv\"]]\n",
    "array_data = new_data.iloc[0:10672, 0:8].values\n",
    "#print(array_data)\n",
    "#plt.scatter(array_data[:, 0], array_data[:, 1], s=50);"
   ]
  },
  {
   "cell_type": "code",
   "execution_count": 3,
   "metadata": {},
   "outputs": [],
   "source": [
    "# #Run K-Means on Data with 8 Clusters\n",
    "\n",
    "# from sklearn.cluster import KMeans\n",
    "# kmeans = KMeans(n_clusters=8)\n",
    "# kmeans.fit(array_data)\n",
    "# y_kmeans = kmeans.predict(array_data)"
   ]
  },
  {
   "cell_type": "code",
   "execution_count": 4,
   "metadata": {
    "scrolled": false
   },
   "outputs": [],
   "source": [
    "# #Plots K-Means Clustering Results\n",
    "\n",
    "# plt.scatter(array_data[:, 0], array_data[:, 1], c=y_kmeans, s=50, cmap='viridis')\n",
    "# centers = kmeans.cluster_centers_\n",
    "# #plt.scatter(centers[:, 0], centers[:, 1], c='black', s=200, alpha=0.5);"
   ]
  },
  {
   "cell_type": "code",
   "execution_count": 5,
   "metadata": {},
   "outputs": [],
   "source": [
    "#What I need to do is look up examples of people running K-Means, and them getting the principle components of the data (probably with the PCA algorithm), then once I have these, run K-means on the resulting 2-D data like they did in the example textbook on Github she gave me."
   ]
  },
  {
   "cell_type": "code",
   "execution_count": 18,
   "metadata": {},
   "outputs": [
    {
     "data": {
      "text/plain": [
       "<matplotlib.collections.PathCollection at 0x1a19683710>"
      ]
     },
     "execution_count": 18,
     "metadata": {},
     "output_type": "execute_result"
    },
    {
     "data": {
      "image/png": "[encoded data removed]",
      "text/plain": [
       "<Figure size 432x288 with 1 Axes>"
      ]
     },
     "metadata": {
      "needs_background": "light"
     },
     "output_type": "display_data"
    }
   ],
   "source": [
    "#Running PCA on Input Data In Order to Make it 2-Dimensional\n",
    "pca = PCA(n_components=2)\n",
    "principalComponents = pca.fit_transform(array_data)\n",
    "principalDf = pd.DataFrame(data = principalComponents\n",
    "             , columns = ['principal component 1', 'principal component 2'])\n",
    "array_principalDf = principalDf.iloc[0:10672, 0:2].values"
   ]
  },
  {
   "cell_type": "code",
   "execution_count": null,
   "metadata": {},
   "outputs": [],
   "source": [
    "#Plotting PCA Output\n",
    "\n",
    "plt.scatter(array_principalDf[:,0],array_principalDf[:,1],c='black')"
   ]
  },
  {
   "cell_type": "code",
   "execution_count": null,
   "metadata": {},
   "outputs": [],
   "source": [
    "#Running KMeans on the 2-Dimesional Data\n",
    "\n",
    "kmeans = KMeans(n_clusters=8)\n",
    "kmeans.fit(principalDf)\n",
    "y_kmeans = kmeans.predict(principalDf)\n",
    "plt.scatter(array_principalDf[:, 0], array_principalDf[:, 1], c=y_kmeans, s=50, cmap='viridis')\n",
    "centers = kmeans.cluster_centers_\n",
    "plt.scatter(centers[:, 0], centers[:, 1], c='black', s=200, alpha=0.5);"
   ]
  }
 ],
 "metadata": {
  "kernelspec": {
   "display_name": "Python 3",
   "language": "python",
   "name": "python3"
  },
  "language_info": {
   "codemirror_mode": {
    "name": "ipython",
    "version": 3
   },
   "file_extension": ".py",
   "mimetype": "text/x-python",
   "name": "python",
   "nbconvert_exporter": "python",
   "pygments_lexer": "ipython3",
   "version": "3.7.1"
  }
 },
 "nbformat": 4,
 "nbformat_minor": 2
}
